{
  "nbformat": 4,
  "nbformat_minor": 0,
  "metadata": {
    "accelerator": "GPU",
    "colab": {
      "name": "sEMG_GestureClassification.ipynb",
      "provenance": [],
      "collapsed_sections": []
    },
    "kernelspec": {
      "display_name": "Python 3",
      "name": "python3"
    },
    "language_info": {
      "name": "python"
    }
  },
  "cells": [
    {
      "cell_type": "code",
      "metadata": {
        "id": "FbTvm9D9AhpV"
      },
      "source": [
        "import pandas as pd\n",
        "import tensorflow as tf\n",
        "import matplotlib.pyplot as plt\n",
        "import numpy as np"
      ],
      "execution_count": 2,
      "outputs": []
    },
    {
      "cell_type": "code",
      "metadata": {
        "colab": {
          "base_uri": "https://localhost:8080/"
        },
        "id": "y9EplTPdUo8b",
        "outputId": "6e242ded-71c1-4df9-8d80-39e71056daa8"
      },
      "source": [
        "from google.colab import drive\n",
        "drive.mount('/content/drive')"
      ],
      "execution_count": 4,
      "outputs": [
        {
          "output_type": "stream",
          "text": [
            "Mounted at /content/drive\n"
          ],
          "name": "stdout"
        }
      ]
    },
    {
      "cell_type": "code",
      "metadata": {
        "id": "PjgkpnK5WFzH"
      },
      "source": [
        "df = pd.read_csv('/content/drive/My Drive/EMG-data.csv')"
      ],
      "execution_count": 6,
      "outputs": []
    },
    {
      "cell_type": "code",
      "metadata": {
        "id": "Wl-Vl2HGXKqC"
      },
      "source": [
        "from sklearn.model_selection import train_test_split\n",
        "\n",
        "features = df.drop(columns=[\"label\",\"class\",\"time\"])\n",
        "Class = df[\"class\"]\n",
        "Class = Class.values\n",
        "features = features.values\n",
        "x_train, x_test, y_train, y_test = train_test_split(features, Class, test_size=0.2, random_state=1)\n"
      ],
      "execution_count": 8,
      "outputs": []
    },
    {
      "cell_type": "code",
      "metadata": {
        "id": "7Awdhx0TXTv3"
      },
      "source": [
        "# Normalizing data\n",
        "mean = x_train.mean(axis=0)\n",
        "std = x_train.std(axis=0)\n",
        "\n",
        "x_train -= mean\n",
        "x_train /= std\n",
        "\n",
        "x_test -= mean\n",
        "x_test /= std"
      ],
      "execution_count": 9,
      "outputs": []
    },
    {
      "cell_type": "code",
      "metadata": {
        "id": "igAAR6SwXWdk"
      },
      "source": [
        "# one hot encoding Labels\n",
        "y_train = tf.keras.utils.to_categorical(y_train)\n",
        "y_test = tf.keras.utils.to_categorical(y_test)\n"
      ],
      "execution_count": 10,
      "outputs": []
    },
    {
      "cell_type": "code",
      "metadata": {
        "id": "W2xFlt7PXZTM"
      },
      "source": [
        "#plotter\n",
        "def plot(loss,val_loss,acc,val_acc):\n",
        "    loss = history.history['loss']\n",
        "    val_loss = history.history['val_loss']\n",
        "\n",
        "    epochs = range(1, len(loss) + 1)\n",
        "\n",
        "    plt.plot(epochs, loss, 'bo', label='Training loss')\n",
        "    plt.plot(epochs, val_loss, 'b', label='Validation loss')\n",
        "    plt.title('Training and validation loss')\n",
        "    plt.xlabel('Epochs')\n",
        "    plt.ylabel('Loss')\n",
        "    plt.legend()\n",
        "    plt.show()\n",
        "\n",
        "    acc = history.history['accuracy']\n",
        "    val_acc = history.history['val_accuracy']\n",
        "\n",
        "    epochs = range(1, len(acc) + 1)\n",
        "\n",
        "    plt.plot(epochs, acc, 'bo', label='Training acc')\n",
        "    plt.plot(epochs, val_acc, 'b', label='Validation acc')\n",
        "    plt.title('Training and validation acc')\n",
        "    plt.xlabel('Epochs')\n",
        "    plt.ylabel('acc')\n",
        "    plt.legend()\n",
        "    plt.show()\n",
        "    "
      ],
      "execution_count": 11,
      "outputs": []
    },
    {
      "cell_type": "code",
      "metadata": {
        "id": "4D0B7ewfXbh5"
      },
      "source": [
        "from tensorflow.keras import layers, Sequential, optimizers, Input, Model\n",
        "\n",
        "input_tensor = Input(shape=(8,))\n",
        "x = layers.Dense(1024, activation='relu')(input_tensor)\n",
        "y = layers.Dense(512, activation='relu')(x)\n",
        "z = layers.Dense(256, activation='relu')(y)\n",
        "z = layers.Dense(128, activation='relu')(z)\n",
        "z = layers.Dense(64, activation='relu')(z)\n",
        "z = layers.Dense(32, activation='relu')(z)\n",
        "z = layers.Dense(128, activation='relu')(y) # acyclic graghs of layers\n",
        "z = layers.Dense(64, activation='relu')(z)\n",
        "z = layers.Dense(32, activation='relu')(z)\n",
        "output_tensor = layers.Dense(8, activation='softmax')(z)\n",
        "\n",
        "model = Model(input_tensor, output_tensor)\n",
        "\n",
        "#SGD #RMSprop #Adam #Adadelta #Adagrad ##Adamax ###Nadam #Ftrl\n",
        "opt = optimizers.Nadam(learning_rate=1e-3)\n",
        "model.compile(optimizer = opt, \n",
        "              loss = \"categorical_crossentropy\",\n",
        "              metrics = [\"accuracy\"])\n",
        "\n",
        "#model.summary()"
      ],
      "execution_count": 14,
      "outputs": []
    },
    {
      "cell_type": "code",
      "metadata": {
        "id": "U9CKL0VbXfTv"
      },
      "source": [
        "# saving model, creating log for tensorboaed and applying few callbacks\n",
        "\n",
        "def callbacks(Log,Dir):\n",
        "  import tensorflow as tf\n",
        "  import os\n",
        "\n",
        "  Filepath = Path\n",
        "  logdir = os.path.join(Filepath, Dir)\n",
        "  \n",
        "  callbacks_list = [tf.keras.callbacks.TensorBoard(\n",
        "                    log_dir=logdir,                 #  tensorboard log path      \n",
        "                    histogram_freq=1,),\n",
        "                    tf.keras.callbacks.EarlyStopping(   # stop if not improving\n",
        "                    monitor='val_accuracy',patience=2,),           # monitor validation accuracy\n",
        "                    #tf.keras.callbacks.ReduceLROnPlateau(\n",
        "                    #monitor='val_loss',factor=0.1,         # lr ko .1 se multiply kerdo (kam kerdo)\n",
        "                    #patience=10,),                # reduce the lrate if val loss stop improving\n",
        "                    tf.keras.callbacks.ModelCheckpoint(\n",
        "                    filepath= Filepath,             # save model path\n",
        "                    monitor='val_loss',             # only save best weights\n",
        "                    save_best_only=True,)]\n",
        "  return callbacks_list"
      ],
      "execution_count": 15,
      "outputs": []
    },
    {
      "cell_type": "code",
      "metadata": {
        "colab": {
          "base_uri": "https://localhost:8080/",
          "height": 1000
        },
        "id": "JMnm2YMdXihz",
        "outputId": "e9c7eb9b-fd23-401a-de29-909f3b8e01eb"
      },
      "source": [
        "Path = \"model1\"\n",
        "Dir = \"my_log_dir\"   \n",
        "Call_B_Fun = callbacks(Path,Dir)\n",
        "\n",
        "batch_size = 512            \n",
        "epochs = 200                \n",
        "\n",
        "history = model.fit(x_train, y_train,\n",
        "                    batch_size=batch_size, epochs = epochs,\n",
        "                    validation_split = 0.2, callbacks=Call_B_Fun)\n",
        "\n",
        "loss = history.history['loss']\n",
        "val_loss = history.history['val_loss']\n",
        "acc = history.history['accuracy']\n",
        "val_acc = history.history['val_accuracy']\n",
        "plot(loss,val_loss,acc,val_acc)\n"
      ],
      "execution_count": 16,
      "outputs": [
        {
          "output_type": "stream",
          "text": [
            "Epoch 1/200\n",
            "5298/5298 [==============================] - 29s 5ms/step - loss: 0.9099 - accuracy: 0.6452 - val_loss: 0.8904 - val_accuracy: 0.6481\n",
            "INFO:tensorflow:Assets written to: model1/assets\n",
            "Epoch 2/200\n",
            "5298/5298 [==============================] - 24s 5ms/step - loss: 0.8750 - accuracy: 0.6502 - val_loss: 0.8631 - val_accuracy: 0.6551\n",
            "INFO:tensorflow:Assets written to: model1/assets\n",
            "Epoch 3/200\n",
            "5298/5298 [==============================] - 24s 5ms/step - loss: 0.8501 - accuracy: 0.6584 - val_loss: 0.8390 - val_accuracy: 0.6636\n",
            "INFO:tensorflow:Assets written to: model1/assets\n",
            "Epoch 4/200\n",
            "5298/5298 [==============================] - 24s 5ms/step - loss: 0.8208 - accuracy: 0.6699 - val_loss: 0.8107 - val_accuracy: 0.6755\n",
            "INFO:tensorflow:Assets written to: model1/assets\n",
            "Epoch 5/200\n",
            "5298/5298 [==============================] - 24s 5ms/step - loss: 0.7899 - accuracy: 0.6836 - val_loss: 0.7828 - val_accuracy: 0.6882\n",
            "INFO:tensorflow:Assets written to: model1/assets\n",
            "Epoch 6/200\n",
            "5298/5298 [==============================] - 24s 4ms/step - loss: 0.7588 - accuracy: 0.6980 - val_loss: 0.7580 - val_accuracy: 0.7003\n",
            "INFO:tensorflow:Assets written to: model1/assets\n",
            "Epoch 7/200\n",
            "5298/5298 [==============================] - 23s 4ms/step - loss: 0.7295 - accuracy: 0.7119 - val_loss: 0.7330 - val_accuracy: 0.7125\n",
            "INFO:tensorflow:Assets written to: model1/assets\n",
            "Epoch 8/200\n",
            "5298/5298 [==============================] - 23s 4ms/step - loss: 0.7019 - accuracy: 0.7252 - val_loss: 0.7121 - val_accuracy: 0.7230\n",
            "INFO:tensorflow:Assets written to: model1/assets\n",
            "Epoch 9/200\n",
            "5298/5298 [==============================] - 23s 4ms/step - loss: 0.6772 - accuracy: 0.7371 - val_loss: 0.6863 - val_accuracy: 0.7355\n",
            "INFO:tensorflow:Assets written to: model1/assets\n",
            "Epoch 10/200\n",
            "5298/5298 [==============================] - 23s 4ms/step - loss: 0.6544 - accuracy: 0.7476 - val_loss: 0.6694 - val_accuracy: 0.7438\n",
            "INFO:tensorflow:Assets written to: model1/assets\n",
            "Epoch 11/200\n",
            "5298/5298 [==============================] - 23s 4ms/step - loss: 0.6333 - accuracy: 0.7577 - val_loss: 0.6485 - val_accuracy: 0.7538\n",
            "INFO:tensorflow:Assets written to: model1/assets\n",
            "Epoch 12/200\n",
            "5298/5298 [==============================] - 23s 4ms/step - loss: 0.6141 - accuracy: 0.7665 - val_loss: 0.6364 - val_accuracy: 0.7614\n",
            "INFO:tensorflow:Assets written to: model1/assets\n",
            "Epoch 13/200\n",
            "5298/5298 [==============================] - 23s 4ms/step - loss: 0.5960 - accuracy: 0.7747 - val_loss: 0.6193 - val_accuracy: 0.7691\n",
            "INFO:tensorflow:Assets written to: model1/assets\n",
            "Epoch 14/200\n",
            "5298/5298 [==============================] - 23s 4ms/step - loss: 0.5797 - accuracy: 0.7822 - val_loss: 0.6046 - val_accuracy: 0.7750\n",
            "INFO:tensorflow:Assets written to: model1/assets\n",
            "Epoch 15/200\n",
            "5298/5298 [==============================] - 23s 4ms/step - loss: 0.5640 - accuracy: 0.7893 - val_loss: 0.5893 - val_accuracy: 0.7817\n",
            "INFO:tensorflow:Assets written to: model1/assets\n",
            "Epoch 16/200\n",
            "5298/5298 [==============================] - 23s 4ms/step - loss: 0.5500 - accuracy: 0.7954 - val_loss: 0.5765 - val_accuracy: 0.7886\n",
            "INFO:tensorflow:Assets written to: model1/assets\n",
            "Epoch 17/200\n",
            "5298/5298 [==============================] - 23s 4ms/step - loss: 0.5366 - accuracy: 0.8014 - val_loss: 0.5702 - val_accuracy: 0.7934\n",
            "INFO:tensorflow:Assets written to: model1/assets\n",
            "Epoch 18/200\n",
            "5298/5298 [==============================] - 23s 4ms/step - loss: 0.5239 - accuracy: 0.8069 - val_loss: 0.5568 - val_accuracy: 0.7986\n",
            "INFO:tensorflow:Assets written to: model1/assets\n",
            "Epoch 19/200\n",
            "5298/5298 [==============================] - 22s 4ms/step - loss: 0.5120 - accuracy: 0.8119 - val_loss: 0.5466 - val_accuracy: 0.8035\n",
            "INFO:tensorflow:Assets written to: model1/assets\n",
            "Epoch 20/200\n",
            "5298/5298 [==============================] - 22s 4ms/step - loss: 0.5008 - accuracy: 0.8167 - val_loss: 0.5404 - val_accuracy: 0.8070\n",
            "INFO:tensorflow:Assets written to: model1/assets\n",
            "Epoch 21/200\n",
            "5298/5298 [==============================] - 22s 4ms/step - loss: 0.4909 - accuracy: 0.8211 - val_loss: 0.5323 - val_accuracy: 0.8108\n",
            "INFO:tensorflow:Assets written to: model1/assets\n",
            "Epoch 22/200\n",
            "5298/5298 [==============================] - 22s 4ms/step - loss: 0.4806 - accuracy: 0.8254 - val_loss: 0.5255 - val_accuracy: 0.8136\n",
            "INFO:tensorflow:Assets written to: model1/assets\n",
            "Epoch 23/200\n",
            "5298/5298 [==============================] - 23s 4ms/step - loss: 0.4719 - accuracy: 0.8291 - val_loss: 0.5165 - val_accuracy: 0.8187\n",
            "INFO:tensorflow:Assets written to: model1/assets\n",
            "Epoch 24/200\n",
            "5298/5298 [==============================] - 22s 4ms/step - loss: 0.4624 - accuracy: 0.8331 - val_loss: 0.5113 - val_accuracy: 0.8206\n",
            "INFO:tensorflow:Assets written to: model1/assets\n",
            "Epoch 25/200\n",
            "5298/5298 [==============================] - 23s 4ms/step - loss: 0.4545 - accuracy: 0.8364 - val_loss: 0.5030 - val_accuracy: 0.8249\n",
            "INFO:tensorflow:Assets written to: model1/assets\n",
            "Epoch 26/200\n",
            "5298/5298 [==============================] - 22s 4ms/step - loss: 0.4462 - accuracy: 0.8398 - val_loss: 0.4948 - val_accuracy: 0.8283\n",
            "INFO:tensorflow:Assets written to: model1/assets\n",
            "Epoch 27/200\n",
            "5298/5298 [==============================] - 23s 4ms/step - loss: 0.4386 - accuracy: 0.8431 - val_loss: 0.4842 - val_accuracy: 0.8338\n",
            "INFO:tensorflow:Assets written to: model1/assets\n",
            "Epoch 28/200\n",
            "5298/5298 [==============================] - 23s 4ms/step - loss: 0.4312 - accuracy: 0.8461 - val_loss: 0.4775 - val_accuracy: 0.8374\n",
            "INFO:tensorflow:Assets written to: model1/assets\n",
            "Epoch 29/200\n",
            "5298/5298 [==============================] - 22s 4ms/step - loss: 0.4245 - accuracy: 0.8490 - val_loss: 0.4783 - val_accuracy: 0.8367\n",
            "Epoch 30/200\n",
            "5298/5298 [==============================] - 23s 4ms/step - loss: 0.4185 - accuracy: 0.8516 - val_loss: 0.4681 - val_accuracy: 0.8417\n",
            "INFO:tensorflow:Assets written to: model1/assets\n",
            "Epoch 31/200\n",
            "5298/5298 [==============================] - 23s 4ms/step - loss: 0.4115 - accuracy: 0.8545 - val_loss: 0.4632 - val_accuracy: 0.8424\n",
            "INFO:tensorflow:Assets written to: model1/assets\n",
            "Epoch 32/200\n",
            "5298/5298 [==============================] - 22s 4ms/step - loss: 0.4053 - accuracy: 0.8568 - val_loss: 0.4667 - val_accuracy: 0.8419\n",
            "Epoch 33/200\n",
            "5298/5298 [==============================] - 23s 4ms/step - loss: 0.3999 - accuracy: 0.8590 - val_loss: 0.4522 - val_accuracy: 0.8492\n",
            "INFO:tensorflow:Assets written to: model1/assets\n",
            "Epoch 34/200\n",
            "5298/5298 [==============================] - 23s 4ms/step - loss: 0.3942 - accuracy: 0.8614 - val_loss: 0.4531 - val_accuracy: 0.8494\n",
            "Epoch 35/200\n",
            "5298/5298 [==============================] - 23s 4ms/step - loss: 0.3893 - accuracy: 0.8637 - val_loss: 0.4535 - val_accuracy: 0.8496\n",
            "Epoch 36/200\n",
            "5298/5298 [==============================] - 23s 4ms/step - loss: 0.3842 - accuracy: 0.8655 - val_loss: 0.4394 - val_accuracy: 0.8553\n",
            "INFO:tensorflow:Assets written to: model1/assets\n",
            "Epoch 37/200\n",
            "5298/5298 [==============================] - 22s 4ms/step - loss: 0.3790 - accuracy: 0.8679 - val_loss: 0.4394 - val_accuracy: 0.8563\n",
            "Epoch 38/200\n",
            "5298/5298 [==============================] - 22s 4ms/step - loss: 0.3746 - accuracy: 0.8697 - val_loss: 0.4314 - val_accuracy: 0.8589\n",
            "INFO:tensorflow:Assets written to: model1/assets\n",
            "Epoch 39/200\n",
            "5298/5298 [==============================] - 23s 4ms/step - loss: 0.3695 - accuracy: 0.8718 - val_loss: 0.4271 - val_accuracy: 0.8610\n",
            "INFO:tensorflow:Assets written to: model1/assets\n",
            "Epoch 40/200\n",
            "5298/5298 [==============================] - 23s 4ms/step - loss: 0.3657 - accuracy: 0.8733 - val_loss: 0.4244 - val_accuracy: 0.8626\n",
            "INFO:tensorflow:Assets written to: model1/assets\n",
            "Epoch 41/200\n",
            "5298/5298 [==============================] - 22s 4ms/step - loss: 0.3605 - accuracy: 0.8756 - val_loss: 0.4262 - val_accuracy: 0.8622\n",
            "Epoch 42/200\n",
            "5298/5298 [==============================] - 22s 4ms/step - loss: 0.3568 - accuracy: 0.8770 - val_loss: 0.4242 - val_accuracy: 0.8636\n",
            "INFO:tensorflow:Assets written to: model1/assets\n",
            "Epoch 43/200\n",
            "5298/5298 [==============================] - 23s 4ms/step - loss: 0.3526 - accuracy: 0.8788 - val_loss: 0.4185 - val_accuracy: 0.8649\n",
            "INFO:tensorflow:Assets written to: model1/assets\n",
            "Epoch 44/200\n",
            "5298/5298 [==============================] - 23s 4ms/step - loss: 0.3493 - accuracy: 0.8802 - val_loss: 0.4194 - val_accuracy: 0.8669\n",
            "Epoch 45/200\n",
            "5298/5298 [==============================] - 22s 4ms/step - loss: 0.3447 - accuracy: 0.8817 - val_loss: 0.4173 - val_accuracy: 0.8665\n",
            "INFO:tensorflow:Assets written to: model1/assets\n",
            "Epoch 46/200\n",
            "5298/5298 [==============================] - 22s 4ms/step - loss: 0.3420 - accuracy: 0.8830 - val_loss: 0.4249 - val_accuracy: 0.8643\n"
          ],
          "name": "stdout"
        },
        {
          "output_type": "display_data",
          "data": {
            "image/png": "[encoded data removed]",
            "text/plain": [
              "<Figure size 432x288 with 1 Axes>"
            ]
          },
          "metadata": {
            "tags": [],
            "needs_background": "light"
          }
        },
        {
          "output_type": "display_data",
          "data": {
            "image/png": "[encoded data removed]",
            "text/plain": [
              "<Figure size 432x288 with 1 Axes>"
            ]
          },
          "metadata": {
            "tags": [],
            "needs_background": "light"
          }
        }
      ]
    },
    {
      "cell_type": "code",
      "metadata": {
        "id": "Ey-5CS4zdaIB"
      },
      "source": [
        "model.save('/content/drive/My Drive/model1/emg_1.h5')"
      ],
      "execution_count": 17,
      "outputs": []
    },
    {
      "cell_type": "code",
      "metadata": {
        "id": "_95CdKKRdkwj"
      },
      "source": [
        "# loading saved model\n",
        "from tensorflow.keras.models import load_model\n",
        "emg = '/content/drive/My Drive/model1/emg_1.h5'\n",
        "emg_model = load_model(emg)\n",
        "#emg_model.summary()"
      ],
      "execution_count": 19,
      "outputs": []
    },
    {
      "cell_type": "code",
      "metadata": {
        "colab": {
          "base_uri": "https://localhost:8080/"
        },
        "id": "l8Ba0W0_dy-f",
        "outputId": "f504ff45-db58-4b4a-8b4f-6a893ab518b7"
      },
      "source": [
        "# Removing layers\n",
        "\n",
        "new_model = Model(emg_model.inputs, emg_model.layers[-2].output) # removing layers\n",
        "new_model.summary()\n",
        "# removed all layers except conv"
      ],
      "execution_count": 20,
      "outputs": [
        {
          "output_type": "stream",
          "text": [
            "Model: \"model_2\"\n",
            "_________________________________________________________________\n",
            "Layer (type)                 Output Shape              Param #   \n",
            "=================================================================\n",
            "input_2 (InputLayer)         [(None, 8)]               0         \n",
            "_________________________________________________________________\n",
            "dense_10 (Dense)             (None, 1024)              9216      \n",
            "_________________________________________________________________\n",
            "dense_11 (Dense)             (None, 512)               524800    \n",
            "_________________________________________________________________\n",
            "dense_16 (Dense)             (None, 128)               65664     \n",
            "_________________________________________________________________\n",
            "dense_17 (Dense)             (None, 64)                8256      \n",
            "_________________________________________________________________\n",
            "dense_18 (Dense)             (None, 32)                2080      \n",
            "=================================================================\n",
            "Total params: 610,016\n",
            "Trainable params: 610,016\n",
            "Non-trainable params: 0\n",
            "_________________________________________________________________\n"
          ],
          "name": "stdout"
        }
      ]
    },
    {
      "cell_type": "code",
      "metadata": {
        "colab": {
          "base_uri": "https://localhost:8080/"
        },
        "id": "1vmrIWvLd3in",
        "outputId": "4889bb8c-bade-4240-c3d6-944a3826249f"
      },
      "source": [
        "from tensorflow.keras import layers, optimizers, Input, Model\n",
        "\n",
        "input_tensor = Input(shape=(8,))\n",
        "x = new_model(input_tensor)       # this is our old model\n",
        "#z = layers.Dense(256, activation='relu')(x)\n",
        "output_tensor = layers.Dense(8, activation='softmax')(x)\n",
        "\n",
        "model = Model(input_tensor, output_tensor)\n",
        "\n",
        "#SGD #RMSprop #Adam #Adadelta #Adagrad ##Adamax ###Nadam #Ftrl\n",
        "opt = optimizers.Nadam(learning_rate=1e-3)\n",
        "model.compile(optimizer = opt, \n",
        "              loss = \"categorical_crossentropy\",\n",
        "              metrics = [\"accuracy\"])\n",
        "\n",
        "model.summary()"
      ],
      "execution_count": 22,
      "outputs": [
        {
          "output_type": "stream",
          "text": [
            "Model: \"model_4\"\n",
            "_________________________________________________________________\n",
            "Layer (type)                 Output Shape              Param #   \n",
            "=================================================================\n",
            "input_4 (InputLayer)         [(None, 8)]               0         \n",
            "_________________________________________________________________\n",
            "model_2 (Functional)         (None, 32)                610016    \n",
            "_________________________________________________________________\n",
            "dense_21 (Dense)             (None, 8)                 264       \n",
            "=================================================================\n",
            "Total params: 610,280\n",
            "Trainable params: 610,280\n",
            "Non-trainable params: 0\n",
            "_________________________________________________________________\n"
          ],
          "name": "stdout"
        }
      ]
    },
    {
      "cell_type": "code",
      "metadata": {
        "id": "hR9U8JPod9UL"
      },
      "source": [
        "def callbacks(Log,Dir):\n",
        "  import tensorflow as tf\n",
        "  import os\n",
        "\n",
        "  Filepath = Path\n",
        "  logdir = os.path.join(Filepath, Dir)\n",
        "  \n",
        "  callbacks_list = [tf.keras.callbacks.TensorBoard(\n",
        "                    log_dir=logdir,                 #  tensorboard log path      \n",
        "                    histogram_freq=1,),\n",
        "                    tf.keras.callbacks.EarlyStopping(   # stop if not improving\n",
        "                    monitor='val_loss',patience=2,),           # monitor validation loss\n",
        "                    tf.keras.callbacks.ReduceLROnPlateau(\n",
        "                    monitor='val_loss',factor=0.1,         # lr ko .1 se multiply kerdo (kam kerdo)\n",
        "                    patience=10,),                # reduce the lrate if val loss stop improving\n",
        "                    tf.keras.callbacks.ModelCheckpoint(\n",
        "                    filepath= Filepath,             # save model path\n",
        "                    monitor='val_loss',             # only save best weights\n",
        "                    save_best_only=True,)]\n",
        "  return callbacks_list"
      ],
      "execution_count": 23,
      "outputs": []
    },
    {
      "cell_type": "code",
      "metadata": {
        "colab": {
          "base_uri": "https://localhost:8080/",
          "height": 930
        },
        "id": "P6G-9j_keD8l",
        "outputId": "0f49fa57-bc24-4714-e552-f276f8ff55a8"
      },
      "source": [
        "Path = \"model2\"\n",
        "Dir = \"my_log_dir\"   \n",
        "Call_B_Fun = callbacks(Path,Dir)\n",
        "\n",
        "batch_size = 512            \n",
        "epochs = 200                \n",
        "\n",
        "history = model.fit(x_train, y_train,\n",
        "                    batch_size=batch_size, epochs = epochs,\n",
        "                    validation_split = 0.2, callbacks=Call_B_Fun)\n",
        "\n",
        "loss = history.history['loss']\n",
        "val_loss = history.history['val_loss']\n",
        "acc = history.history['accuracy']\n",
        "val_acc = history.history['val_accuracy']\n",
        "plot(loss,val_loss,acc,val_acc)"
      ],
      "execution_count": 24,
      "outputs": [
        {
          "output_type": "stream",
          "text": [
            "Epoch 1/200\n",
            "5298/5298 [==============================] - 24s 4ms/step - loss: 0.7263 - accuracy: 0.7400 - val_loss: 0.4733 - val_accuracy: 0.8350\n",
            "INFO:tensorflow:Assets written to: model2/assets\n",
            "Epoch 2/200\n",
            "5298/5298 [==============================] - 23s 4ms/step - loss: 0.3805 - accuracy: 0.8650 - val_loss: 0.4225 - val_accuracy: 0.8620\n",
            "INFO:tensorflow:Assets written to: model2/assets\n",
            "Epoch 3/200\n",
            "5298/5298 [==============================] - 23s 4ms/step - loss: 0.3533 - accuracy: 0.8775 - val_loss: 0.4130 - val_accuracy: 0.8683\n",
            "INFO:tensorflow:Assets written to: model2/assets\n",
            "Epoch 4/200\n",
            "5298/5298 [==============================] - 23s 4ms/step - loss: 0.3407 - accuracy: 0.8830 - val_loss: 0.4152 - val_accuracy: 0.8681\n",
            "Epoch 5/200\n",
            "5298/5298 [==============================] - 23s 4ms/step - loss: 0.3340 - accuracy: 0.8857 - val_loss: 0.4077 - val_accuracy: 0.8716\n",
            "INFO:tensorflow:Assets written to: model2/assets\n",
            "Epoch 6/200\n",
            "5298/5298 [==============================] - 23s 4ms/step - loss: 0.3300 - accuracy: 0.8874 - val_loss: 0.3938 - val_accuracy: 0.8773\n",
            "INFO:tensorflow:Assets written to: model2/assets\n",
            "Epoch 7/200\n",
            "5298/5298 [==============================] - 23s 4ms/step - loss: 0.3265 - accuracy: 0.8890 - val_loss: 0.3955 - val_accuracy: 0.8783\n",
            "Epoch 8/200\n",
            "5298/5298 [==============================] - 23s 4ms/step - loss: 0.3223 - accuracy: 0.8909 - val_loss: 0.4042 - val_accuracy: 0.8742\n"
          ],
          "name": "stdout"
        },
        {
          "output_type": "display_data",
          "data": {
            "image/png": "[encoded data removed]",
            "text/plain": [
              "<Figure size 432x288 with 1 Axes>"
            ]
          },
          "metadata": {
            "tags": [],
            "needs_background": "light"
          }
        },
        {
          "output_type": "display_data",
          "data": {
            "image/png": "[encoded data removed]",
            "text/plain": [
              "<Figure size 432x288 with 1 Axes>"
            ]
          },
          "metadata": {
            "tags": [],
            "needs_background": "light"
          }
        }
      ]
    },
    {
      "cell_type": "code",
      "metadata": {
        "id": "oM7mVHkPgn5L"
      },
      "source": [
        "model.save('/content/drive/My Drive/model2/emg_2.h5')\n"
      ],
      "execution_count": 25,
      "outputs": []
    },
    {
      "cell_type": "code",
      "metadata": {
        "id": "J7TQiS9WgvcO"
      },
      "source": [
        "# loading saved model\n",
        "from tensorflow.keras.models import load_model\n",
        "emg = '/content/drive/My Drive/model2/emg_2.h5'\n",
        "emg_model = load_model(emg)\n",
        "#emg_model.summary()"
      ],
      "execution_count": 26,
      "outputs": []
    },
    {
      "cell_type": "code",
      "metadata": {
        "id": "tHREjHSNgzmN"
      },
      "source": [
        "from tensorflow.keras import layers, Sequential, optimizers, Input, Model\n",
        "\n",
        "input_tensor = Input(shape=(8,))\n",
        "x = layers.Dense(1024, activation='relu')(input_tensor)\n",
        "y = layers.Dense(512, activation='relu')(x)\n",
        "z = layers.Dense(256, activation='relu')(y)\n",
        "z = layers.Dense(128, activation='relu')(z)\n",
        "z = layers.Dense(64, activation='relu')(z)\n",
        "z = layers.Dense(32, activation='relu')(z)\n",
        "z = layers.Dense(128, activation='relu')(y) # acyclic graghs of layers\n",
        "z = layers.Dense(64, activation='relu')(z)\n",
        "z = layers.Dense(32, activation='relu')(z)\n",
        "output_tensor = layers.Dense(8, activation='softmax')(z)\n",
        "\n",
        "model = Model(input_tensor, output_tensor)\n",
        "\n",
        "opt = optimizers.Nadam(learning_rate=1e-3)\n",
        "model.compile(optimizer = opt, \n",
        "              loss = \"categorical_crossentropy\",\n",
        "              metrics = [\"accuracy\"])\n",
        "\n",
        "model.set_weights(emg_model.get_weights())   # using pretrained model weights\n",
        "\n",
        "#model.summary()"
      ],
      "execution_count": 28,
      "outputs": []
    },
    {
      "cell_type": "code",
      "metadata": {
        "colab": {
          "base_uri": "https://localhost:8080/"
        },
        "id": "u-ld2DBAg_si",
        "outputId": "4c5360c5-c597-496c-c5b8-eeb3e014e522"
      },
      "source": [
        "callbacks_list = [tf.keras.callbacks.EarlyStopping(   # stop if not improving\n",
        "                monitor='val_accuracy',patience=5,),           # monitor validation accuracy\n",
        "                tf.keras.callbacks.ModelCheckpoint(\n",
        "                filepath='my_model.h5',\n",
        "                monitor='val_loss',                   # only save best weights\n",
        "                save_best_only=True,)]                # when vall loss is improved\n",
        "\n",
        "batch_size = 512           \n",
        "epochs = 15                \n",
        "\n",
        "history = model.fit(x_train, y_train,\n",
        "                    batch_size=batch_size, epochs = epochs,\n",
        "                    validation_split = 0.2,\n",
        "                    callbacks=callbacks_list)"
      ],
      "execution_count": 30,
      "outputs": [
        {
          "output_type": "stream",
          "text": [
            "Epoch 1/15\n",
            "5298/5298 [==============================] - 23s 4ms/step - loss: 0.2809 - accuracy: 0.9073 - val_loss: 0.3597 - val_accuracy: 0.8951\n",
            "Epoch 2/15\n",
            "5298/5298 [==============================] - 22s 4ms/step - loss: 0.2788 - accuracy: 0.9081 - val_loss: 0.3591 - val_accuracy: 0.8968\n",
            "Epoch 3/15\n",
            "5298/5298 [==============================] - 22s 4ms/step - loss: 0.2769 - accuracy: 0.9091 - val_loss: 0.3541 - val_accuracy: 0.8984\n",
            "Epoch 4/15\n",
            "5298/5298 [==============================] - 23s 4ms/step - loss: 0.2749 - accuracy: 0.9097 - val_loss: 0.3668 - val_accuracy: 0.8946\n",
            "Epoch 5/15\n",
            "5298/5298 [==============================] - 23s 4ms/step - loss: 0.2721 - accuracy: 0.9107 - val_loss: 0.3616 - val_accuracy: 0.8973\n",
            "Epoch 6/15\n",
            "5298/5298 [==============================] - 22s 4ms/step - loss: 0.2710 - accuracy: 0.9110 - val_loss: 0.3562 - val_accuracy: 0.8984\n",
            "Epoch 7/15\n",
            "5298/5298 [==============================] - 22s 4ms/step - loss: 0.2684 - accuracy: 0.9120 - val_loss: 0.3540 - val_accuracy: 0.8998\n",
            "Epoch 8/15\n",
            "5298/5298 [==============================] - 22s 4ms/step - loss: 0.2677 - accuracy: 0.9125 - val_loss: 0.3510 - val_accuracy: 0.9016\n",
            "Epoch 9/15\n",
            "5298/5298 [==============================] - 23s 4ms/step - loss: 0.2651 - accuracy: 0.9135 - val_loss: 0.3546 - val_accuracy: 0.9008\n",
            "Epoch 10/15\n",
            "5298/5298 [==============================] - 23s 4ms/step - loss: 0.2639 - accuracy: 0.9139 - val_loss: 0.3512 - val_accuracy: 0.9021\n",
            "Epoch 11/15\n",
            "5298/5298 [==============================] - 23s 4ms/step - loss: 0.2621 - accuracy: 0.9145 - val_loss: 0.3535 - val_accuracy: 0.9012\n",
            "Epoch 12/15\n",
            "5298/5298 [==============================] - 22s 4ms/step - loss: 0.2599 - accuracy: 0.9155 - val_loss: 0.3559 - val_accuracy: 0.8995\n",
            "Epoch 13/15\n",
            "5298/5298 [==============================] - 22s 4ms/step - loss: 0.2585 - accuracy: 0.9159 - val_loss: 0.3524 - val_accuracy: 0.9018\n",
            "Epoch 14/15\n",
            "5298/5298 [==============================] - 23s 4ms/step - loss: 0.2571 - accuracy: 0.9162 - val_loss: 0.3451 - val_accuracy: 0.9055\n",
            "Epoch 15/15\n",
            "5298/5298 [==============================] - 23s 4ms/step - loss: 0.2557 - accuracy: 0.9171 - val_loss: 0.3515 - val_accuracy: 0.9031\n"
          ],
          "name": "stdout"
        }
      ]
    },
    {
      "cell_type": "code",
      "metadata": {
        "id": "0XagyOommm7s"
      },
      "source": [
        "model.save('/content/drive/My Drive/model2/emg_3.h5')\n"
      ],
      "execution_count": 31,
      "outputs": []
    },
    {
      "cell_type": "code",
      "metadata": {
        "colab": {
          "base_uri": "https://localhost:8080/",
          "height": 573
        },
        "id": "M3LzKfkwmpGo",
        "outputId": "3a6db60f-c529-444f-c036-a48e67ec2e5d"
      },
      "source": [
        "loss = history.history['loss']\n",
        "val_loss = history.history['val_loss']\n",
        "acc = history.history['accuracy']\n",
        "val_acc = history.history['val_accuracy']\n",
        "plot(loss,val_loss,acc,val_acc)"
      ],
      "execution_count": 32,
      "outputs": [
        {
          "output_type": "display_data",
          "data": {
            "image/png": "[encoded data removed]",
            "text/plain": [
              "<Figure size 432x288 with 1 Axes>"
            ]
          },
          "metadata": {
            "tags": [],
            "needs_background": "light"
          }
        },
        {
          "output_type": "display_data",
          "data": {
            "image/png": "[encoded data removed]",
            "text/plain": [
              "<Figure size 432x288 with 1 Axes>"
            ]
          },
          "metadata": {
            "tags": [],
            "needs_background": "light"
          }
        }
      ]
    },
    {
      "cell_type": "code",
      "metadata": {
        "colab": {
          "base_uri": "https://localhost:8080/"
        },
        "id": "HfN1jJavm70I",
        "outputId": "289d48a5-c5cb-4637-d942-b5ee9eb4b2a4"
      },
      "source": [
        "evaluation = model.evaluate(x_test,  y_test,batch_size=batch_size, verbose=2)\n",
        "print()\n",
        "print(\"Test loss :\",evaluation[0]*100,\"%\")\n",
        "print(\"Test accuracy :\",evaluation[1]*100,\"%\")"
      ],
      "execution_count": 33,
      "outputs": [
        {
          "output_type": "stream",
          "text": [
            "1656/1656 - 3s - loss: 0.3508 - accuracy: 0.9038\n",
            "\n",
            "Test loss : 35.082295536994934 %\n",
            "Test accuracy : 90.37615060806274 %\n"
          ],
          "name": "stdout"
        }
      ]
    },
    {
      "cell_type": "code",
      "metadata": {
        "colab": {
          "base_uri": "https://localhost:8080/"
        },
        "id": "ClWNfAxPnI4X",
        "outputId": "8595ecd6-01a1-4584-cef1-85a3e38dc880"
      },
      "source": [
        "predict = 1002\n",
        "a = np.argmax(model.predict(x_test)[predict])\n",
        "print(\"Predicted Class: \",a)\n",
        "print(\"Actual Class: \",np.argmax(y_test[predict]))"
      ],
      "execution_count": 35,
      "outputs": [
        {
          "output_type": "stream",
          "text": [
            "Predicted Class:  0\n",
            "Actual Class:  0\n"
          ],
          "name": "stdout"
        }
      ]
    }
  ]
}